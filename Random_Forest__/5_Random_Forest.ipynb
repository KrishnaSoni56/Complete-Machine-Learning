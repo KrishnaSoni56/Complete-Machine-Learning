{
 "cells": [
  {
   "cell_type": "markdown",
   "id": "ade9751c-57d0-4a00-96d5-9a3a95c34a4c",
   "metadata": {},
   "source": [
    "# Random Forest on Social Network Ads"
   ]
  },
  {
   "cell_type": "code",
   "execution_count": 1,
   "id": "6f89f1d4-bfdb-43e0-a4ad-3aca5d88d7dd",
   "metadata": {},
   "outputs": [],
   "source": [
    "import numpy as np\n",
    "import pandas as pd\n",
    "from sklearn.model_selection import train_test_split , cross_val_score\n",
    "from sklearn.ensemble import RandomForestClassifier\n",
    "from sklearn.metrics import accuracy_score\n",
    "from sklearn.preprocessing import LabelEncoder"
   ]
  },
  {
   "cell_type": "code",
   "execution_count": 2,
   "id": "24099b21-79e3-4ea9-a452-6ab75c1c55a8",
   "metadata": {},
   "outputs": [],
   "source": [
    "df = pd.read_csv(\"D:\\\\Feature_csv_Files\\Social_Network_Ads.csv\" )"
   ]
  },
  {
   "cell_type": "code",
   "execution_count": 3,
   "id": "0d0ca112-7307-4611-91be-287c2f0e7627",
   "metadata": {},
   "outputs": [
    {
     "data": {
      "text/html": [
       "<div>\n",
       "<style scoped>\n",
       "    .dataframe tbody tr th:only-of-type {\n",
       "        vertical-align: middle;\n",
       "    }\n",
       "\n",
       "    .dataframe tbody tr th {\n",
       "        vertical-align: top;\n",
       "    }\n",
       "\n",
       "    .dataframe thead th {\n",
       "        text-align: right;\n",
       "    }\n",
       "</style>\n",
       "<table border=\"1\" class=\"dataframe\">\n",
       "  <thead>\n",
       "    <tr style=\"text-align: right;\">\n",
       "      <th></th>\n",
       "      <th>User ID</th>\n",
       "      <th>Gender</th>\n",
       "      <th>Age</th>\n",
       "      <th>EstimatedSalary</th>\n",
       "      <th>Purchased</th>\n",
       "    </tr>\n",
       "  </thead>\n",
       "  <tbody>\n",
       "    <tr>\n",
       "      <th>0</th>\n",
       "      <td>15624510</td>\n",
       "      <td>Male</td>\n",
       "      <td>19</td>\n",
       "      <td>19000</td>\n",
       "      <td>0</td>\n",
       "    </tr>\n",
       "    <tr>\n",
       "      <th>1</th>\n",
       "      <td>15810944</td>\n",
       "      <td>Male</td>\n",
       "      <td>35</td>\n",
       "      <td>20000</td>\n",
       "      <td>0</td>\n",
       "    </tr>\n",
       "    <tr>\n",
       "      <th>2</th>\n",
       "      <td>15668575</td>\n",
       "      <td>Female</td>\n",
       "      <td>26</td>\n",
       "      <td>43000</td>\n",
       "      <td>0</td>\n",
       "    </tr>\n",
       "    <tr>\n",
       "      <th>3</th>\n",
       "      <td>15603246</td>\n",
       "      <td>Female</td>\n",
       "      <td>27</td>\n",
       "      <td>57000</td>\n",
       "      <td>0</td>\n",
       "    </tr>\n",
       "    <tr>\n",
       "      <th>4</th>\n",
       "      <td>15804002</td>\n",
       "      <td>Male</td>\n",
       "      <td>19</td>\n",
       "      <td>76000</td>\n",
       "      <td>0</td>\n",
       "    </tr>\n",
       "  </tbody>\n",
       "</table>\n",
       "</div>"
      ],
      "text/plain": [
       "    User ID  Gender  Age  EstimatedSalary  Purchased\n",
       "0  15624510    Male   19            19000          0\n",
       "1  15810944    Male   35            20000          0\n",
       "2  15668575  Female   26            43000          0\n",
       "3  15603246  Female   27            57000          0\n",
       "4  15804002    Male   19            76000          0"
      ]
     },
     "execution_count": 3,
     "metadata": {},
     "output_type": "execute_result"
    }
   ],
   "source": [
    "df.head()"
   ]
  },
  {
   "cell_type": "code",
   "execution_count": 4,
   "id": "103506cd-c6e3-48e1-be18-ccb7f80a6531",
   "metadata": {},
   "outputs": [],
   "source": [
    "df = df.drop(columns= 'User ID')"
   ]
  },
  {
   "cell_type": "code",
   "execution_count": 5,
   "id": "8df77079-8dd4-4803-85dc-e44c5eacf7a9",
   "metadata": {},
   "outputs": [],
   "source": [
    "lb = LabelEncoder()"
   ]
  },
  {
   "cell_type": "code",
   "execution_count": 6,
   "id": "9b816def-7de1-448f-8d4f-08bc7cbb9f73",
   "metadata": {},
   "outputs": [],
   "source": [
    "df['Gender'] = lb.fit_transform(df['Gender'])"
   ]
  },
  {
   "cell_type": "code",
   "execution_count": 7,
   "id": "07d8dfa1-6df8-47d9-b0c5-cc1e8d8527fd",
   "metadata": {},
   "outputs": [
    {
     "data": {
      "text/plain": [
       "Gender             0\n",
       "Age                0\n",
       "EstimatedSalary    0\n",
       "Purchased          0\n",
       "dtype: int64"
      ]
     },
     "execution_count": 7,
     "metadata": {},
     "output_type": "execute_result"
    }
   ],
   "source": [
    "df.isnull().sum()"
   ]
  },
  {
   "cell_type": "code",
   "execution_count": 8,
   "id": "15fa0f94-452c-482a-99bb-529fdf401b40",
   "metadata": {},
   "outputs": [],
   "source": [
    "x_train , x_test , y_train , y_test = train_test_split(df.drop(columns= \"Purchased\") , df['Purchased'] , test_size=0.2 , random_state= 10) \n",
    "\n",
    "\n"
   ]
  },
  {
   "cell_type": "code",
   "execution_count": 9,
   "id": "e53c6b9f-5674-4d5a-8dbf-9113dda1c643",
   "metadata": {},
   "outputs": [],
   "source": [
    "# Define Range of Values for the number of estimators\n",
    "\n",
    "estimator_values = [10,50,100,200,500]"
   ]
  },
  {
   "cell_type": "code",
   "execution_count": 10,
   "id": "24afc300-8aeb-47dc-9036-097a3dccf066",
   "metadata": {},
   "outputs": [
    {
     "name": "stdout",
     "output_type": "stream",
     "text": [
      "Number of Estimators : 10 , Mean Accuracy : 0.853125 \n",
      "Number of Estimators : 50 , Mean Accuracy : 0.859375 \n",
      "Number of Estimators : 100 , Mean Accuracy : 0.871875 \n",
      "Number of Estimators : 200 , Mean Accuracy : 0.865625 \n",
      "Number of Estimators : 500 , Mean Accuracy : 0.8625 \n"
     ]
    }
   ],
   "source": [
    "# Iterate over the number of estimators and evaluate the model\n",
    "\n",
    "for n_estimators in estimator_values :\n",
    "    # Create a Random Forest classifier\n",
    "    \n",
    "    rf_classifier = RandomForestClassifier(n_estimators= n_estimators , random_state= 34)\n",
    "    \n",
    "    # Perform Cross-Validation and calculate the mean accuracy\n",
    "    \n",
    "    scores = cross_val_score(rf_classifier , x_train , y_train , cv= 5)\n",
    "    mean_accuracy = np.mean(scores)\n",
    "    \n",
    "    # Print the results\n",
    "    print(f\"Number of Estimators : {n_estimators} , Mean Accuracy : {mean_accuracy} \")"
   ]
  },
  {
   "cell_type": "code",
   "execution_count": null,
   "id": "c7808ae4-d566-4718-9b6f-8fec6c6aee04",
   "metadata": {},
   "outputs": [],
   "source": []
  },
  {
   "cell_type": "code",
   "execution_count": null,
   "id": "e8b894af-75ea-431b-88bc-cc0ad927f9ba",
   "metadata": {},
   "outputs": [],
   "source": []
  },
  {
   "cell_type": "code",
   "execution_count": null,
   "id": "9a222d96-f88e-4d84-b093-37bfd28e96f7",
   "metadata": {},
   "outputs": [],
   "source": []
  }
 ],
 "metadata": {
  "kernelspec": {
   "display_name": "Python 3 (ipykernel)",
   "language": "python",
   "name": "python3"
  },
  "language_info": {
   "codemirror_mode": {
    "name": "ipython",
    "version": 3
   },
   "file_extension": ".py",
   "mimetype": "text/x-python",
   "name": "python",
   "nbconvert_exporter": "python",
   "pygments_lexer": "ipython3",
   "version": "3.10.9"
  }
 },
 "nbformat": 4,
 "nbformat_minor": 5
}
