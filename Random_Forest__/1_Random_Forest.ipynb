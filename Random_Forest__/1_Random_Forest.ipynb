{
 "cells": [
  {
   "cell_type": "code",
   "execution_count": 1,
   "id": "9d68b5c2-b902-4293-b625-a453b187fc57",
   "metadata": {},
   "outputs": [],
   "source": [
    "import numpy as np\n",
    "from sklearn.model_selection import train_test_split , cross_val_score\n",
    "from sklearn import datasets\n",
    "from sklearn.ensemble import RandomForestClassifier\n"
   ]
  },
  {
   "cell_type": "code",
   "execution_count": 2,
   "id": "c00803fa-eeef-474e-8ef9-acef2d68695c",
   "metadata": {},
   "outputs": [],
   "source": [
    "# Load the breast cancer dataset\n",
    "cancer = datasets.load_breast_cancer()\n",
    "\n",
    "X = cancer.data\n",
    "y = cancer.target\n"
   ]
  },
  {
   "cell_type": "code",
   "execution_count": null,
   "id": "5bfb0740-23e9-4e9e-a942-64f51b0f9edc",
   "metadata": {},
   "outputs": [],
   "source": []
  },
  {
   "cell_type": "code",
   "execution_count": null,
   "id": "23b2a449-104d-41e4-89da-c2a705e613ad",
   "metadata": {},
   "outputs": [],
   "source": []
  },
  {
   "cell_type": "code",
   "execution_count": 3,
   "id": "f4734611-c5de-4063-a021-09d6b4a918ec",
   "metadata": {},
   "outputs": [],
   "source": [
    "# Split the dataset into training and testing sets\n",
    "\n",
    "X_train , X_test , y_train , y_test = train_test_split(X,y,test_size= 0.2  , random_state= 34)"
   ]
  },
  {
   "cell_type": "code",
   "execution_count": 4,
   "id": "497d15b2-81e3-45f9-8d2a-bfc820066a94",
   "metadata": {},
   "outputs": [],
   "source": [
    "# Define Range of Values for the number of estimators\n",
    "\n",
    "estimator_values = [10,50,100,200,500]"
   ]
  },
  {
   "cell_type": "code",
   "execution_count": 5,
   "id": "cf91cb22-b897-44d7-8aa0-eef287c72da3",
   "metadata": {},
   "outputs": [
    {
     "name": "stdout",
     "output_type": "stream",
     "text": [
      "Number of Estimators : 10 , Mean Accuracy : 0.9472527472527472 \n",
      "Number of Estimators : 50 , Mean Accuracy : 0.9582417582417584 \n",
      "Number of Estimators : 100 , Mean Accuracy : 0.956043956043956 \n",
      "Number of Estimators : 200 , Mean Accuracy : 0.9626373626373628 \n",
      "Number of Estimators : 500 , Mean Accuracy : 0.9560439560439562 \n"
     ]
    }
   ],
   "source": [
    "# Iterate over the number of estimators and evaluate the model\n",
    "\n",
    "for n_estimators in estimator_values :\n",
    "    # Create a Random Forest classifier\n",
    "    \n",
    "    rf_classifier = RandomForestClassifier(n_estimators= n_estimators , random_state= 34)\n",
    "    \n",
    "    # Perform Cross-Validation and calculate the mean accuracy\n",
    "    \n",
    "    scores = cross_val_score(rf_classifier , X_train , y_train , cv= 5)\n",
    "    mean_accuracy = np.mean(scores)\n",
    "    \n",
    "    # Print the results\n",
    "    print(f\"Number of Estimators : {n_estimators} , Mean Accuracy : {mean_accuracy} \")"
   ]
  },
  {
   "cell_type": "code",
   "execution_count": null,
   "id": "8e822235-0471-47e9-b33f-674a2471df97",
   "metadata": {},
   "outputs": [],
   "source": []
  },
  {
   "cell_type": "code",
   "execution_count": null,
   "id": "7952d76c-21e9-4c3f-a472-b2932f0763ce",
   "metadata": {},
   "outputs": [],
   "source": []
  },
  {
   "cell_type": "code",
   "execution_count": null,
   "id": "683a5c3d-bdb8-4553-92ea-f57f29c5043f",
   "metadata": {},
   "outputs": [],
   "source": []
  }
 ],
 "metadata": {
  "kernelspec": {
   "display_name": "Python 3 (ipykernel)",
   "language": "python",
   "name": "python3"
  },
  "language_info": {
   "codemirror_mode": {
    "name": "ipython",
    "version": 3
   },
   "file_extension": ".py",
   "mimetype": "text/x-python",
   "name": "python",
   "nbconvert_exporter": "python",
   "pygments_lexer": "ipython3",
   "version": "3.10.9"
  }
 },
 "nbformat": 4,
 "nbformat_minor": 5
}
