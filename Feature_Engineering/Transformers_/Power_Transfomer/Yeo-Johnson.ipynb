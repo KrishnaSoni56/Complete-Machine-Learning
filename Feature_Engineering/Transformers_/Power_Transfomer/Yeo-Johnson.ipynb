{
 "cells": [
  {
   "cell_type": "markdown",
   "id": "f8aa8c2b-0260-41c9-bfdf-82a25dd53120",
   "metadata": {},
   "source": [
    "# Yeo-Johnson : The yeo-johnson transformation is a more flexible transformation that can be applied to both postitveand negative data,including zero values . It also assumes that the data follows a normal distribution, biut it applies a slighly different power transformation that the box-cox transformation. The Yeo-Johnson transformation is a morerobust transformation that can handle a wide range of data types and distributions compared to the Box-Cox transformation ."
   ]
  },
  {
   "cell_type": "code",
   "execution_count": 1,
   "id": "aab1a1a2-3775-41f7-af60-f2e26d1a12dc",
   "metadata": {},
   "outputs": [],
   "source": [
    "import numpy as np\n",
    "from sklearn.preprocessing import PowerTransformer"
   ]
  },
  {
   "cell_type": "code",
   "execution_count": 2,
   "id": "a4bccb95-3eba-4653-9586-5aa350d2cbb1",
   "metadata": {},
   "outputs": [],
   "source": [
    "data = np.random.gamma(1,2,size = (100,1))"
   ]
  },
  {
   "cell_type": "code",
   "execution_count": 3,
   "id": "9229f1e5-aa05-43d7-8488-7159614e23a8",
   "metadata": {},
   "outputs": [],
   "source": [
    "pt = PowerTransformer(method= 'yeo-johnson')"
   ]
  },
  {
   "cell_type": "code",
   "execution_count": 4,
   "id": "fc4d7004-9c63-49a6-9265-8a48e987b477",
   "metadata": {},
   "outputs": [],
   "source": [
    "transformed_data = pt.fit_transform(data)"
   ]
  },
  {
   "cell_type": "code",
   "execution_count": 5,
   "id": "7927e8c2-b16b-4d9d-8401-5de19c165f03",
   "metadata": {},
   "outputs": [
    {
     "name": "stdout",
     "output_type": "stream",
     "text": [
      "Original Data : \n",
      " [[3.86178999]\n",
      " [1.79058301]\n",
      " [0.8113262 ]\n",
      " [2.48686393]\n",
      " [0.98992423]]\n",
      "Transformed Data \n",
      ": [[ 1.17297033]\n",
      " [ 0.10065221]\n",
      " [-0.72908452]\n",
      " [ 0.53003013]\n",
      " [-0.5489245 ]]\n"
     ]
    }
   ],
   "source": [
    "# print the original data and trasformed data \n",
    "\n",
    "print(\"Original Data : \\n\" , data[1:6])\n",
    "print(\"Transformed Data \\n:\" , transformed_data[1:6])"
   ]
  },
  {
   "cell_type": "code",
   "execution_count": null,
   "id": "65bf04e9-0286-40d3-b688-2f9af555a38b",
   "metadata": {},
   "outputs": [],
   "source": []
  }
 ],
 "metadata": {
  "kernelspec": {
   "display_name": "Python 3 (ipykernel)",
   "language": "python",
   "name": "python3"
  },
  "language_info": {
   "codemirror_mode": {
    "name": "ipython",
    "version": 3
   },
   "file_extension": ".py",
   "mimetype": "text/x-python",
   "name": "python",
   "nbconvert_exporter": "python",
   "pygments_lexer": "ipython3",
   "version": "3.10.9"
  }
 },
 "nbformat": 4,
 "nbformat_minor": 5
}
