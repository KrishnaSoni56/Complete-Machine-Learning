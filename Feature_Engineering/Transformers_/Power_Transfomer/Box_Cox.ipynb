{
 "cells": [
  {
   "cell_type": "markdown",
   "id": "8d619d32-9737-4e1f-94ba-1f97b95def34",
   "metadata": {},
   "source": [
    "# Box_Cox = The box-cox transformation is appropriate for non- negative data that does not contain zero values .\n",
    "It assumes that the data follows a normal distribution and applies a power transformation to achieve normality.\n",
    "The box cox transformation is a more rigid tranformation compared to the yeo- johnson transformation, because it requires the data to be strictly positive and cannot handle zero values .\n"
   ]
  },
  {
   "cell_type": "code",
   "execution_count": 1,
   "id": "4c0486e7-a888-4368-842a-61037c8e792f",
   "metadata": {},
   "outputs": [],
   "source": [
    "# Box-Cox \n",
    "\n",
    "import numpy as np\n",
    "from sklearn.preprocessing import PowerTransformer"
   ]
  },
  {
   "cell_type": "code",
   "execution_count": 2,
   "id": "6507a64d-3955-470d-9331-50112ae4e9e5",
   "metadata": {},
   "outputs": [],
   "source": [
    "# Generate some random data with a skewed distribution\n",
    "\n",
    "data = np.random.gamma(1,2,size =( 100 , 1))"
   ]
  },
  {
   "cell_type": "code",
   "execution_count": 3,
   "id": "53a71998-d102-459f-9399-a4a444f634c3",
   "metadata": {},
   "outputs": [],
   "source": [
    "pt = PowerTransformer(method= 'box-cox')"
   ]
  },
  {
   "cell_type": "code",
   "execution_count": 4,
   "id": "2aa4732d-0d9c-4bf0-a7ba-68ae3173793b",
   "metadata": {},
   "outputs": [],
   "source": [
    "# Fit the powertransformer to the data and transform it\n",
    "\n",
    "transformed_data = pt.fit_transform(data)"
   ]
  },
  {
   "cell_type": "code",
   "execution_count": 5,
   "id": "fa2b68d2-8c8c-4f39-a50d-82cde479d3cf",
   "metadata": {},
   "outputs": [
    {
     "name": "stdout",
     "output_type": "stream",
     "text": [
      "Original Data : [[3.65209033]\n",
      " [2.08174613]\n",
      " [0.47082723]\n",
      " [2.79346293]\n",
      " [2.50920153]]\n",
      "Transformed Data : [[ 1.13158816]\n",
      " [ 0.40729087]\n",
      " [-1.03558146]\n",
      " [ 0.77186022]\n",
      " [ 0.63529191]]\n"
     ]
    }
   ],
   "source": [
    "print('Original Data :' , data[:5])\n",
    "print('Transformed Data :' , transformed_data[:5])"
   ]
  },
  {
   "cell_type": "code",
   "execution_count": null,
   "id": "5bae1d30-0de5-49bb-9c73-8501c0d91f32",
   "metadata": {},
   "outputs": [],
   "source": []
  }
 ],
 "metadata": {
  "kernelspec": {
   "display_name": "Python 3 (ipykernel)",
   "language": "python",
   "name": "python3"
  },
  "language_info": {
   "codemirror_mode": {
    "name": "ipython",
    "version": 3
   },
   "file_extension": ".py",
   "mimetype": "text/x-python",
   "name": "python",
   "nbconvert_exporter": "python",
   "pygments_lexer": "ipython3",
   "version": "3.10.9"
  }
 },
 "nbformat": 4,
 "nbformat_minor": 5
}
