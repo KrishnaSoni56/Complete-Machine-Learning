{
 "cells": [
  {
   "cell_type": "code",
   "execution_count": 1,
   "id": "66ccaa11-177f-4cb9-93e1-41741122ceb3",
   "metadata": {},
   "outputs": [],
   "source": [
    "import numpy as np\n",
    "from sklearn.preprocessing import PowerTransformer\n",
    "from sklearn.model_selection import train_test_split\n",
    "from sklearn.linear_model import LinearRegression"
   ]
  },
  {
   "cell_type": "code",
   "execution_count": 2,
   "id": "a746ca8d-5808-4b5a-bb29-6ce7acfae7d1",
   "metadata": {},
   "outputs": [],
   "source": [
    "# Create a synthetic dataset\n",
    "\n",
    "X = np.random.normal(loc =  100 , scale = 10 , size = (1000 , 5))\n",
    "y = np.random.normal(loc = 100 , scale = 10 , size = 1000)"
   ]
  },
  {
   "cell_type": "code",
   "execution_count": 3,
   "id": "9fe8b4da-acc5-4cf8-81d4-02f8e92306fd",
   "metadata": {},
   "outputs": [],
   "source": [
    "X_train , X_test , y_train , y_test = train_test_split(X,y , test_size= 0.2 , random_state= 23)"
   ]
  },
  {
   "cell_type": "markdown",
   "id": "c35e59ef-d5ed-4558-a35a-a5924539fa91",
   "metadata": {},
   "source": [
    "# Fit transform the data using Box-Cox method"
   ]
  },
  {
   "cell_type": "code",
   "execution_count": 4,
   "id": "eb0a8997-e6dd-448c-9398-9649a9209830",
   "metadata": {},
   "outputs": [],
   "source": [
    "box_cox_transformer = PowerTransformer(method=\"box-cox\" , standardize= True)\n",
    "X_train_box_cox = box_cox_transformer.fit_transform(X_train)\n",
    "X_test_box_cox = box_cox_transformer.transform(X_test)"
   ]
  },
  {
   "cell_type": "markdown",
   "id": "191da138-6daf-4aa9-b1bf-48982cdd9313",
   "metadata": {},
   "source": [
    "# Fit transform the data using Yeo-Johnson method"
   ]
  },
  {
   "cell_type": "code",
   "execution_count": 5,
   "id": "da500feb-c636-41d6-a259-a052024ba198",
   "metadata": {},
   "outputs": [],
   "source": [
    "yeo_johnsonn_transformer = PowerTransformer(method=\"yeo-johnson\" , standardize=True)\n",
    "X_train_yeo_johnson = yeo_johnsonn_transformer.fit_transform(X_train)\n",
    "X_test_yeo_johnson = yeo_johnsonn_transformer.transform(X_test)"
   ]
  },
  {
   "cell_type": "code",
   "execution_count": null,
   "id": "3523981f-8be1-4450-b702-7def311ec688",
   "metadata": {},
   "outputs": [],
   "source": []
  },
  {
   "cell_type": "code",
   "execution_count": null,
   "id": "7b1a49c8-60a7-4a86-b338-0fbfd898b0cf",
   "metadata": {},
   "outputs": [],
   "source": []
  },
  {
   "cell_type": "code",
   "execution_count": null,
   "id": "f5ed0b90-2891-4501-93b6-bba8c6e14615",
   "metadata": {},
   "outputs": [],
   "source": []
  }
 ],
 "metadata": {
  "kernelspec": {
   "display_name": "Python 3 (ipykernel)",
   "language": "python",
   "name": "python3"
  },
  "language_info": {
   "codemirror_mode": {
    "name": "ipython",
    "version": 3
   },
   "file_extension": ".py",
   "mimetype": "text/x-python",
   "name": "python",
   "nbconvert_exporter": "python",
   "pygments_lexer": "ipython3",
   "version": "3.10.9"
  }
 },
 "nbformat": 4,
 "nbformat_minor": 5
}
