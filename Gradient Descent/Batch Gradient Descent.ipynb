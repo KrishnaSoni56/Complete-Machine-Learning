{
 "cells": [
  {
   "cell_type": "code",
   "execution_count": 1,
   "id": "1048e86c-8dde-464b-9e4b-8d1a33675ead",
   "metadata": {},
   "outputs": [],
   "source": [
    "from sklearn.datasets import make_regression\n",
    "import matplotlib.pyplot as plt\n",
    "import numpy as np"
   ]
  },
  {
   "cell_type": "code",
   "execution_count": 2,
   "id": "9e744345-a232-4c36-a70c-68511248bf79",
   "metadata": {},
   "outputs": [],
   "source": [
    "X,y = make_regression(n_samples = 100 , n_features = 1 , n_informative = 1 , n_targets = 1 , noise=20)"
   ]
  },
  {
   "cell_type": "code",
   "execution_count": 3,
   "id": "faf8169a-68bc-4b0f-9983-747d64c95f94",
   "metadata": {},
   "outputs": [
    {
     "data": {
      "text/plain": [
       "<matplotlib.collections.PathCollection at 0x21e02fa3c70>"
      ]
     },
     "execution_count": 3,
     "metadata": {},
     "output_type": "execute_result"
    },
    {
     "data": {
      "image/png": "[encoded data removed]",
      "text/plain": [
       "<Figure size 640x480 with 1 Axes>"
      ]
     },
     "metadata": {},
     "output_type": "display_data"
    }
   ],
   "source": [
    "plt.scatter(X,y)"
   ]
  },
  {
   "cell_type": "code",
   "execution_count": 4,
   "id": "bd3660ec-9fd1-4542-b8ff-2501dbccc61b",
   "metadata": {},
   "outputs": [],
   "source": [
    "from sklearn.linear_model import LinearRegression"
   ]
  },
  {
   "cell_type": "code",
   "execution_count": 5,
   "id": "9078bd07-11f2-42c0-ab8e-ae6cc425ee10",
   "metadata": {},
   "outputs": [],
   "source": [
    "lr = LinearRegression()"
   ]
  },
  {
   "cell_type": "code",
   "execution_count": 6,
   "id": "7de26a53-b30f-4167-997e-940dd4fa5e75",
   "metadata": {},
   "outputs": [
    {
     "data": {
      "text/html": [
       "<style>#sk-container-id-1 {color: black;background-color: white;}#sk-container-id-1 pre{padding: 0;}#sk-container-id-1 div.sk-toggleable {background-color: white;}#sk-container-id-1 label.sk-toggleable__label {cursor: pointer;display: block;width: 100%;margin-bottom: 0;padding: 0.3em;box-sizing: border-box;text-align: center;}#sk-container-id-1 label.sk-toggleable__label-arrow:before {content: \"▸\";float: left;margin-right: 0.25em;color: #696969;}#sk-container-id-1 label.sk-toggleable__label-arrow:hover:before {color: black;}#sk-container-id-1 div.sk-estimator:hover label.sk-toggleable__label-arrow:before {color: black;}#sk-container-id-1 div.sk-toggleable__content {max-height: 0;max-width: 0;overflow: hidden;text-align: left;background-color: #f0f8ff;}#sk-container-id-1 div.sk-toggleable__content pre {margin: 0.2em;color: black;border-radius: 0.25em;background-color: #f0f8ff;}#sk-container-id-1 input.sk-toggleable__control:checked~div.sk-toggleable__content {max-height: 200px;max-width: 100%;overflow: auto;}#sk-container-id-1 input.sk-toggleable__control:checked~label.sk-toggleable__label-arrow:before {content: \"▾\";}#sk-container-id-1 div.sk-estimator input.sk-toggleable__control:checked~label.sk-toggleable__label {background-color: #d4ebff;}#sk-container-id-1 div.sk-label input.sk-toggleable__control:checked~label.sk-toggleable__label {background-color: #d4ebff;}#sk-container-id-1 input.sk-hidden--visually {border: 0;clip: rect(1px 1px 1px 1px);clip: rect(1px, 1px, 1px, 1px);height: 1px;margin: -1px;overflow: hidden;padding: 0;position: absolute;width: 1px;}#sk-container-id-1 div.sk-estimator {font-family: monospace;background-color: #f0f8ff;border: 1px dotted black;border-radius: 0.25em;box-sizing: border-box;margin-bottom: 0.5em;}#sk-container-id-1 div.sk-estimator:hover {background-color: #d4ebff;}#sk-container-id-1 div.sk-parallel-item::after {content: \"\";width: 100%;border-bottom: 1px solid gray;flex-grow: 1;}#sk-container-id-1 div.sk-label:hover label.sk-toggleable__label {background-color: #d4ebff;}#sk-container-id-1 div.sk-serial::before {content: \"\";position: absolute;border-left: 1px solid gray;box-sizing: border-box;top: 0;bottom: 0;left: 50%;z-index: 0;}#sk-container-id-1 div.sk-serial {display: flex;flex-direction: column;align-items: center;background-color: white;padding-right: 0.2em;padding-left: 0.2em;position: relative;}#sk-container-id-1 div.sk-item {position: relative;z-index: 1;}#sk-container-id-1 div.sk-parallel {display: flex;align-items: stretch;justify-content: center;background-color: white;position: relative;}#sk-container-id-1 div.sk-item::before, #sk-container-id-1 div.sk-parallel-item::before {content: \"\";position: absolute;border-left: 1px solid gray;box-sizing: border-box;top: 0;bottom: 0;left: 50%;z-index: -1;}#sk-container-id-1 div.sk-parallel-item {display: flex;flex-direction: column;z-index: 1;position: relative;background-color: white;}#sk-container-id-1 div.sk-parallel-item:first-child::after {align-self: flex-end;width: 50%;}#sk-container-id-1 div.sk-parallel-item:last-child::after {align-self: flex-start;width: 50%;}#sk-container-id-1 div.sk-parallel-item:only-child::after {width: 0;}#sk-container-id-1 div.sk-dashed-wrapped {border: 1px dashed gray;margin: 0 0.4em 0.5em 0.4em;box-sizing: border-box;padding-bottom: 0.4em;background-color: white;}#sk-container-id-1 div.sk-label label {font-family: monospace;font-weight: bold;display: inline-block;line-height: 1.2em;}#sk-container-id-1 div.sk-label-container {text-align: center;}#sk-container-id-1 div.sk-container {/* jupyter's `normalize.less` sets `[hidden] { display: none; }` but bootstrap.min.css set `[hidden] { display: none !important; }` so we also need the `!important` here to be able to override the default hidden behavior on the sphinx rendered scikit-learn.org. See: https://github.com/scikit-learn/scikit-learn/issues/21755 */display: inline-block !important;position: relative;}#sk-container-id-1 div.sk-text-repr-fallback {display: none;}</style><div id=\"sk-container-id-1\" class=\"sk-top-container\"><div class=\"sk-text-repr-fallback\"><pre>LinearRegression()</pre><b>In a Jupyter environment, please rerun this cell to show the HTML representation or trust the notebook. <br />On GitHub, the HTML representation is unable to render, please try loading this page with nbviewer.org.</b></div><div class=\"sk-container\" hidden><div class=\"sk-item\"><div class=\"sk-estimator sk-toggleable\"><input class=\"sk-toggleable__control sk-hidden--visually\" id=\"sk-estimator-id-1\" type=\"checkbox\" checked><label for=\"sk-estimator-id-1\" class=\"sk-toggleable__label sk-toggleable__label-arrow\">LinearRegression</label><div class=\"sk-toggleable__content\"><pre>LinearRegression()</pre></div></div></div></div></div>"
      ],
      "text/plain": [
       "LinearRegression()"
      ]
     },
     "execution_count": 6,
     "metadata": {},
     "output_type": "execute_result"
    }
   ],
   "source": [
    "lr.fit(X,y)"
   ]
  },
  {
   "cell_type": "code",
   "execution_count": 7,
   "id": "070f8011-d602-4715-adf2-730f56fee51e",
   "metadata": {},
   "outputs": [
    {
     "name": "stdout",
     "output_type": "stream",
     "text": [
      "[20.13711614]\n",
      "-0.7620567018880826\n"
     ]
    }
   ],
   "source": [
    "print(lr.coef_)\n",
    "print(lr.intercept_)"
   ]
  },
  {
   "cell_type": "code",
   "execution_count": 8,
   "id": "3f66db61-cdbf-4226-ac33-abf0eb38d8f7",
   "metadata": {},
   "outputs": [],
   "source": [
    "m = 15.75"
   ]
  },
  {
   "cell_type": "code",
   "execution_count": 9,
   "id": "f581654c-94dd-4d30-8415-f538924a8f57",
   "metadata": {},
   "outputs": [],
   "source": [
    "class GDRegressor :\n",
    "    def __init__(self , learning_rate , epochs):\n",
    "        self.m = 35\n",
    "        self.b = 0\n",
    "        self.lr = learning_rate\n",
    "        self.epochs = epochs\n",
    "        \n",
    "        \n",
    "    def model_fit(self, X,y) :\n",
    "        # Calculate the b using Gradient Descent\n",
    "        \n",
    "        for i in range(self.epochs):\n",
    "            loss_intercept = -2*np.sum(y - self.m*X.ravel()-self.b)\n",
    "            self.b = self.b - (self.lr * loss_intercept)\n",
    "            \n",
    "        print(self.b)           "
   ]
  },
  {
   "cell_type": "code",
   "execution_count": 10,
   "id": "9919a1a9-62e6-48dc-a49d-f23df0b3266b",
   "metadata": {},
   "outputs": [],
   "source": [
    "grow = GDRegressor(0.001 , 100)"
   ]
  },
  {
   "cell_type": "code",
   "execution_count": 11,
   "id": "fc858569-8d94-43f0-b179-91ba2de66c39",
   "metadata": {},
   "outputs": [
    {
     "name": "stdout",
     "output_type": "stream",
     "text": [
      "-3.427885211993407\n"
     ]
    }
   ],
   "source": [
    "grow.model_fit(X,y)"
   ]
  },
  {
   "cell_type": "markdown",
   "id": "22648adc-4efe-4c81-a216-38174f341978",
   "metadata": {},
   "source": [
    "# now this time to check both on m and b"
   ]
  },
  {
   "cell_type": "code",
   "execution_count": 12,
   "id": "6e87749f-c5b7-4ec5-975b-710437fe6989",
   "metadata": {},
   "outputs": [],
   "source": [
    "from sklearn.datasets import make_regression \n",
    "import matplotlib.pyplot as plt \n",
    "import numpy as np \n",
    "from sklearn.model_selection import cross_val_score"
   ]
  },
  {
   "cell_type": "code",
   "execution_count": 13,
   "id": "90b4de27-45f7-4e88-b71a-463986e543b5",
   "metadata": {},
   "outputs": [],
   "source": [
    "X,y = make_regression(n_samples = 100 , n_features = 1 ,\n",
    "                      n_informative = 1 , n_targets = 1 , noise = 20 , random_state = 13)"
   ]
  },
  {
   "cell_type": "code",
   "execution_count": 14,
   "id": "68ce1366-c33a-40ed-bf33-a6fa6c48f1ab",
   "metadata": {},
   "outputs": [],
   "source": [
    "from sklearn.model_selection import train_test_split"
   ]
  },
  {
   "cell_type": "code",
   "execution_count": 15,
   "id": "6516b522-f375-4825-8146-f510e59e14b4",
   "metadata": {},
   "outputs": [],
   "source": [
    "X_train , X_test , y_train , y_test = train_test_split(X,y,test_size= 0.2 ,random_state=34)"
   ]
  },
  {
   "cell_type": "code",
   "execution_count": 16,
   "id": "757d9637-bccb-4c08-a6ae-a9b5b5867fe2",
   "metadata": {},
   "outputs": [],
   "source": [
    "lr = LinearRegression()"
   ]
  },
  {
   "cell_type": "code",
   "execution_count": 17,
   "id": "717ce1d8-b7c6-470b-8f1e-d33d04ef35dd",
   "metadata": {},
   "outputs": [
    {
     "name": "stdout",
     "output_type": "stream",
     "text": [
      "[29.44646987]\n",
      "-3.986403271797774\n"
     ]
    }
   ],
   "source": [
    "lr.fit(X_train , y_train)\n",
    "print(lr.coef_)\n",
    "print(lr.intercept_)"
   ]
  },
  {
   "cell_type": "code",
   "execution_count": 18,
   "id": "02080e8c-4dc6-4831-b444-2bab20913209",
   "metadata": {},
   "outputs": [],
   "source": [
    "y_pred = lr.predict(X_test)\n"
   ]
  },
  {
   "cell_type": "code",
   "execution_count": 19,
   "id": "ffe721b1-eac5-483b-9933-6970ee108ceb",
   "metadata": {},
   "outputs": [],
   "source": [
    "from sklearn.metrics import r2_score"
   ]
  },
  {
   "cell_type": "code",
   "execution_count": 20,
   "id": "2d221a58-0f99-457e-b757-613c498dd976",
   "metadata": {},
   "outputs": [
    {
     "data": {
      "text/plain": [
       "0.01952429644474296"
      ]
     },
     "execution_count": 20,
     "metadata": {},
     "output_type": "execute_result"
    }
   ],
   "source": [
    "r2_score(y_test , y_pred)"
   ]
  },
  {
   "cell_type": "code",
   "execution_count": 21,
   "id": "aed8b214-cf39-4230-86c3-b582ade3b011",
   "metadata": {},
   "outputs": [],
   "source": [
    "class GDRegressor :\n",
    "    def __init__(self, lr , epochs):\n",
    "        self.m = -2\n",
    "        self.b = 90\n",
    "        self.lr = lr\n",
    "        self.epochs = epochs\n",
    "        \n",
    "    def fit_model(self, X,y):\n",
    "        \n",
    "        for i in range(self.epochs):\n",
    "            loss_intercept_b = -2*np.sum(y - self.m*X.ravel() - self.b)\n",
    "            self.b = self.b - (self.lr * loss_intercept_b ) \n",
    "            \n",
    "            loss_slope_m = -2*np.sum((y - self.m*X.ravel() - self.b)* X.ravel())\n",
    "            self.m = self.m - (self.lr * loss_slope_m)\n",
    "            \n",
    "            \n",
    "        print(self.b , self.m)\n",
    "        \n",
    "        \n",
    "    def predict(self , X):\n",
    "        return self.m * X + self.b\n",
    "            "
   ]
  },
  {
   "cell_type": "code",
   "execution_count": 22,
   "id": "6dd3d011-10ee-430c-9145-006127eb65ec",
   "metadata": {},
   "outputs": [],
   "source": [
    "gd = GDRegressor(0.001, 100)"
   ]
  },
  {
   "cell_type": "code",
   "execution_count": 23,
   "id": "ac3d7e44-3c75-4cab-8f43-a08756fb8ae0",
   "metadata": {},
   "outputs": [
    {
     "name": "stdout",
     "output_type": "stream",
     "text": [
      "-3.986402063866622 29.44646347359889\n"
     ]
    }
   ],
   "source": [
    "gd.fit_model(X_train , y_train)"
   ]
  },
  {
   "cell_type": "code",
   "execution_count": 24,
   "id": "8ca6aea3-385a-4262-9a3a-7cfc03052e7e",
   "metadata": {},
   "outputs": [],
   "source": [
    "y_pred = gd.predict(X_test)"
   ]
  },
  {
   "cell_type": "code",
   "execution_count": 25,
   "id": "d92cb069-02e1-466a-8385-bea3e2de0f5f",
   "metadata": {},
   "outputs": [
    {
     "data": {
      "text/plain": [
       "0.019524562968750492"
      ]
     },
     "execution_count": 25,
     "metadata": {},
     "output_type": "execute_result"
    }
   ],
   "source": [
    "from sklearn.metrics import r2_score\n",
    "\n",
    "r2_score(y_test , y_pred)"
   ]
  },
  {
   "cell_type": "code",
   "execution_count": null,
   "id": "23e3780a-c9a5-44b0-b253-acc34939126f",
   "metadata": {},
   "outputs": [],
   "source": []
  },
  {
   "cell_type": "code",
   "execution_count": null,
   "id": "d70b1605-8df8-4087-ba50-5ea4a011de26",
   "metadata": {},
   "outputs": [],
   "source": []
  }
 ],
 "metadata": {
  "kernelspec": {
   "display_name": "Python 3 (ipykernel)",
   "language": "python",
   "name": "python3"
  },
  "language_info": {
   "codemirror_mode": {
    "name": "ipython",
    "version": 3
   },
   "file_extension": ".py",
   "mimetype": "text/x-python",
   "name": "python",
   "nbconvert_exporter": "python",
   "pygments_lexer": "ipython3",
   "version": "3.10.9"
  }
 },
 "nbformat": 4,
 "nbformat_minor": 5
}
