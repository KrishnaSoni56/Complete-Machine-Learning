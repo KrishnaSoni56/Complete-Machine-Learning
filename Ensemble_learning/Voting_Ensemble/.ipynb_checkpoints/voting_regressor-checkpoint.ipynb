{
 "cells": [
  {
   "cell_type": "markdown",
   "id": "97dc2c01-227c-4802-bc96-339bcdbc897a",
   "metadata": {},
   "source": [
    "# Voting Regressor "
   ]
  },
  {
   "cell_type": "code",
   "execution_count": 1,
   "id": "936f5d84-4445-4092-b780-f801dc5afeea",
   "metadata": {},
   "outputs": [],
   "source": [
    "from sklearn.datasets import fetch_california_housing\n",
    "housing  = fetch_california_housing()"
   ]
  },
  {
   "cell_type": "code",
   "execution_count": 2,
   "id": "8741f315-a2a0-4956-8a23-74d4a6238eff",
   "metadata": {},
   "outputs": [],
   "source": [
    "X , y = fetch_california_housing(return_X_y=True)"
   ]
  },
  {
   "cell_type": "code",
   "execution_count": 3,
   "id": "4b63688a-6559-4c26-a51f-bacfca038b1a",
   "metadata": {},
   "outputs": [
    {
     "data": {
      "text/plain": [
       "(20640, 8)"
      ]
     },
     "execution_count": 3,
     "metadata": {},
     "output_type": "execute_result"
    }
   ],
   "source": [
    "X.shape"
   ]
  },
  {
   "cell_type": "code",
   "execution_count": 4,
   "id": "857f68f1-58be-43dc-a149-259df2f761e2",
   "metadata": {},
   "outputs": [
    {
     "data": {
      "text/plain": [
       "(20640,)"
      ]
     },
     "execution_count": 4,
     "metadata": {},
     "output_type": "execute_result"
    }
   ],
   "source": [
    "y.shape"
   ]
  },
  {
   "cell_type": "code",
   "execution_count": 5,
   "id": "88173802-8d32-4020-a164-ec3c72104d9c",
   "metadata": {},
   "outputs": [],
   "source": [
    "from sklearn.linear_model import LinearRegression\n",
    "from sklearn.tree import DecisionTreeRegressor\n",
    "from sklearn.svm import SVR\n",
    "from sklearn.model_selection import cross_val_score\n",
    "import numpy as np"
   ]
  },
  {
   "cell_type": "code",
   "execution_count": 6,
   "id": "74528996-eff4-41ed-9026-9baaaa9e5a2d",
   "metadata": {},
   "outputs": [],
   "source": [
    "lr = LinearRegression()\n",
    "dt = DecisionTreeRegressor()\n",
    "svr = SVR()"
   ]
  },
  {
   "cell_type": "code",
   "execution_count": 7,
   "id": "68d207ba-6de6-44bd-9423-6ef30c0ccfbd",
   "metadata": {},
   "outputs": [],
   "source": [
    "estimators = [('lr' , lr) , ('svr' , svr) , ('dt' , dt)]"
   ]
  },
  {
   "cell_type": "code",
   "execution_count": 8,
   "id": "a29c970b-7879-4119-b23a-3e96de34fe3f",
   "metadata": {},
   "outputs": [
    {
     "name": "stdout",
     "output_type": "stream",
     "text": [
      "lr 0.51\n",
      "svr -0.25\n",
      "dt 0.26\n"
     ]
    }
   ],
   "source": [
    "for estimator in estimators:\n",
    "    scores = cross_val_score(estimator[1] , X,y , scoring = 'r2' , cv = 10)\n",
    "    print(estimator[0] , np.round(np.mean(scores) , 2))"
   ]
  },
  {
   "cell_type": "code",
   "execution_count": 9,
   "id": "dda72df8-bb86-463e-b93e-69ee38a1a687",
   "metadata": {},
   "outputs": [],
   "source": [
    "from sklearn.ensemble import VotingRegressor\n"
   ]
  },
  {
   "cell_type": "code",
   "execution_count": 10,
   "id": "dd5c5e09-14c8-4d84-aaf2-73875d8d4099",
   "metadata": {},
   "outputs": [
    {
     "name": "stdout",
     "output_type": "stream",
     "text": [
      "Voting Regressor : 0.48\n"
     ]
    }
   ],
   "source": [
    "vr = VotingRegressor(estimators)\n",
    "scores = cross_val_score(vr ,X,y , scoring ='r2' , cv = 10)\n",
    "print(\"Voting Regressor :\", np.round(np.mean(scores) , 2))"
   ]
  },
  {
   "cell_type": "markdown",
   "id": "0ecac661-0fac-4bb1-91c4-41f76b7f5ba6",
   "metadata": {},
   "source": [
    "# # Using Weights in Voting regressor "
   ]
  },
  {
   "cell_type": "code",
   "execution_count": 11,
   "id": "418e6b61-6276-47ec-9c07-925962749a8e",
   "metadata": {},
   "outputs": [],
   "source": [
    "# for i in range(1,4):\n",
    "#     for j in range(1,4):\n",
    "#         for k in range(1,4):\n",
    "#             vr = VotingRegressor(estimators , weights = [i,j,k])\n",
    "#             scores = cross_val_score(vr , X,y, scoring = 'r2' , cv =10)\n",
    "#             print(\"For i= {} , j = {} , k= {}\".format(i,j,k),np.round(np.mean(scores) , 2))"
   ]
  },
  {
   "cell_type": "code",
   "execution_count": 12,
   "id": "9f1260b4-f7fd-4070-a025-8525a3bb9a4d",
   "metadata": {},
   "outputs": [],
   "source": [
    "\n",
    "# using the same algorithm\n",
    "\n",
    "dt1 = DecisionTreeRegressor(max_depth=1)\n",
    "dt2 = DecisionTreeRegressor(max_depth=3)\n",
    "dt3 = DecisionTreeRegressor(max_depth=5)\n",
    "dt4 = DecisionTreeRegressor(max_depth=7)\n",
    "dt5 = DecisionTreeRegressor(max_depth=None)"
   ]
  },
  {
   "cell_type": "code",
   "execution_count": 13,
   "id": "5c796815-2d85-4867-a4c7-bb738e289e16",
   "metadata": {},
   "outputs": [],
   "source": [
    "estimators = [('dt1',dt1),('dt2',dt2),('dt3',dt3),('dt4',dt4),('dt5',dt5)]\n"
   ]
  },
  {
   "cell_type": "code",
   "execution_count": 14,
   "id": "bd03d623-f482-47f5-9500-fa125e57d9b6",
   "metadata": {},
   "outputs": [
    {
     "name": "stdout",
     "output_type": "stream",
     "text": [
      "dt1 0.13\n",
      "dt2 0.36\n",
      "dt3 0.43\n",
      "dt4 0.47\n",
      "dt5 0.24\n"
     ]
    }
   ],
   "source": [
    "for estimator in estimators:\n",
    "    scores = cross_val_score(estimator[1],X,y,scoring='r2',cv=10)\n",
    "    print(estimator[0],np.round(np.mean(scores),2))\n"
   ]
  },
  {
   "cell_type": "code",
   "execution_count": 15,
   "id": "6d428fa1-1fed-4ac4-a092-9948d7b3009d",
   "metadata": {},
   "outputs": [
    {
     "name": "stdout",
     "output_type": "stream",
     "text": [
      "Voting Regressor 0.5\n"
     ]
    }
   ],
   "source": [
    "\n",
    "vr = VotingRegressor(estimators)\n",
    "scores = cross_val_score(vr,X,y,scoring='r2',cv=10)\n",
    "print(\"Voting Regressor\",np.round(np.mean(scores),2))\n",
    "     "
   ]
  },
  {
   "cell_type": "code",
   "execution_count": null,
   "id": "caad1923-3e6f-4166-a6ae-0c3aeac1225d",
   "metadata": {},
   "outputs": [],
   "source": []
  }
 ],
 "metadata": {
  "kernelspec": {
   "display_name": "Python 3 (ipykernel)",
   "language": "python",
   "name": "python3"
  },
  "language_info": {
   "codemirror_mode": {
    "name": "ipython",
    "version": 3
   },
   "file_extension": ".py",
   "mimetype": "text/x-python",
   "name": "python",
   "nbconvert_exporter": "python",
   "pygments_lexer": "ipython3",
   "version": "3.10.9"
  }
 },
 "nbformat": 4,
 "nbformat_minor": 5
}
