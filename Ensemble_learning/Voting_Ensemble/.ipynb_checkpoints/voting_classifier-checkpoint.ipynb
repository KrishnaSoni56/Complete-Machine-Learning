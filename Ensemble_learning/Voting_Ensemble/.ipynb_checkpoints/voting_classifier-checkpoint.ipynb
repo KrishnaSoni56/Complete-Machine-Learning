{
 "cells": [
  {
   "cell_type": "markdown",
   "id": "5019e490-b69e-419e-aa03-6259e7e25738",
   "metadata": {},
   "source": [
    "# Voting Ensemble"
   ]
  },
  {
   "cell_type": "code",
   "execution_count": null,
   "id": "31f715b3-aeae-448d-b24d-2cde6be92bf0",
   "metadata": {},
   "outputs": [],
   "source": []
  }
 ],
 "metadata": {
  "kernelspec": {
   "display_name": "Python 3 (ipykernel)",
   "language": "python",
   "name": "python3"
  },
  "language_info": {
   "codemirror_mode": {
    "name": "ipython",
    "version": 3
   },
   "file_extension": ".py",
   "mimetype": "text/x-python",
   "name": "python",
   "nbconvert_exporter": "python",
   "pygments_lexer": "ipython3",
   "version": "3.10.9"
  }
 },
 "nbformat": 4,
 "nbformat_minor": 5
}
