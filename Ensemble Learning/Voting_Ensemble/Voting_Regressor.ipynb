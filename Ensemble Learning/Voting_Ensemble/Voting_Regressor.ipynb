{
 "cells": [
  {
   "cell_type": "code",
   "execution_count": 1,
   "id": "bbd9421c-c4cb-45ce-8c50-7308bf9bdc91",
   "metadata": {},
   "outputs": [],
   "source": [
    "from sklearn.datasets import fetch_california_housing\n",
    "\n",
    "housing = fetch_california_housing()\n"
   ]
  },
  {
   "cell_type": "code",
   "execution_count": 2,
   "id": "c93fb317-d044-4b6f-87bb-5d28a4685275",
   "metadata": {},
   "outputs": [],
   "source": [
    "X , y = fetch_california_housing(return_X_y=True)"
   ]
  },
  {
   "cell_type": "code",
   "execution_count": 3,
   "id": "623cb77a-d95f-460a-b185-bbedeebb4062",
   "metadata": {},
   "outputs": [
    {
     "data": {
      "text/plain": [
       "(20640, 8)"
      ]
     },
     "execution_count": 3,
     "metadata": {},
     "output_type": "execute_result"
    }
   ],
   "source": [
    "X.shape"
   ]
  },
  {
   "cell_type": "code",
   "execution_count": 4,
   "id": "093700fb-02bb-4bcd-b652-9c1db738d8d1",
   "metadata": {},
   "outputs": [
    {
     "data": {
      "text/plain": [
       "(20640,)"
      ]
     },
     "execution_count": 4,
     "metadata": {},
     "output_type": "execute_result"
    }
   ],
   "source": [
    "y.shape"
   ]
  },
  {
   "cell_type": "code",
   "execution_count": 5,
   "id": "48b8ddd5-73b1-419e-b9e0-3893041baafa",
   "metadata": {},
   "outputs": [],
   "source": [
    "from sklearn.linear_model import LinearRegression\n",
    "from sklearn.tree import DecisionTreeRegressor\n",
    "from sklearn.svm import SVR\n",
    "from sklearn.model_selection import cross_val_score\n",
    "import numpy as np"
   ]
  },
  {
   "cell_type": "code",
   "execution_count": 6,
   "id": "77b2b5b8-b963-42b0-a185-d92d35e33c00",
   "metadata": {},
   "outputs": [],
   "source": [
    "lr = LinearRegression()\n",
    "dt = DecisionTreeRegressor()\n",
    "svr = SVR()"
   ]
  },
  {
   "cell_type": "code",
   "execution_count": 7,
   "id": "6054a5ba-e6d9-4fd7-afa3-c16ca9cb8e49",
   "metadata": {},
   "outputs": [],
   "source": [
    "estimators = [('lr' , lr) , ('dt' , dt) , ('svr' , svr)]"
   ]
  },
  {
   "cell_type": "code",
   "execution_count": 8,
   "id": "642bd851-aaab-493c-87db-c93b059c7772",
   "metadata": {},
   "outputs": [
    {
     "name": "stdout",
     "output_type": "stream",
     "text": [
      "lr 0.51\n",
      "dt 0.23\n",
      "svr -0.25\n"
     ]
    }
   ],
   "source": [
    "for estimator in estimators:\n",
    "    scores = cross_val_score(estimator[1] ,X,y , scoring ='r2' , cv = 10)\n",
    "    print(estimator[0],np.round(np.mean(scores) , 2))"
   ]
  },
  {
   "cell_type": "code",
   "execution_count": 9,
   "id": "f476dd41-722f-404f-9ee9-c051c8705386",
   "metadata": {},
   "outputs": [],
   "source": [
    "from sklearn.ensemble import VotingRegressor\n"
   ]
  },
  {
   "cell_type": "code",
   "execution_count": 10,
   "id": "f59e5961-8067-4f40-b117-f4a63ef67227",
   "metadata": {},
   "outputs": [
    {
     "name": "stdout",
     "output_type": "stream",
     "text": [
      "Voting Regressor : 0.48\n"
     ]
    }
   ],
   "source": [
    "vr = VotingRegressor(estimators)\n",
    "scores = cross_val_score(vr ,X,y , scoring ='r2' , cv = 10)\n",
    "print(\"Voting Regressor :\", np.round(np.mean(scores) , 2))"
   ]
  },
  {
   "cell_type": "markdown",
   "id": "8683cdf5-54fe-4c65-be01-6973e2d4e621",
   "metadata": {},
   "source": [
    "# Using Weights in Voting regressor "
   ]
  },
  {
   "cell_type": "code",
   "execution_count": 11,
   "id": "da76b5fb-7d07-4c2a-9ebc-4c3e39597cfb",
   "metadata": {},
   "outputs": [],
   "source": [
    "# for i in range(1,4):\n",
    "#     for j in range(1,4):\n",
    "#         for k in range(1,4):\n",
    "#             vr = VotingRegressor(estimators , weights = [i,j,k])\n",
    "#             scores = cross_val_score(vr , X,y, scoring = 'r2' , cv =10)\n",
    "#             print(\"For i= {} , j = {} , k= {}\".format(i,j,k),np.round(np.mean(scores) , 2))"
   ]
  },
  {
   "cell_type": "code",
   "execution_count": 12,
   "id": "78fab800-d7b6-4911-a6c9-000817ff18f0",
   "metadata": {},
   "outputs": [],
   "source": [
    "\n",
    "# using the same algorithm\n",
    "\n",
    "dt1 = DecisionTreeRegressor(max_depth=1)\n",
    "dt2 = DecisionTreeRegressor(max_depth=3)\n",
    "dt3 = DecisionTreeRegressor(max_depth=5)\n",
    "dt4 = DecisionTreeRegressor(max_depth=7)\n",
    "dt5 = DecisionTreeRegressor(max_depth=None)"
   ]
  },
  {
   "cell_type": "code",
   "execution_count": 13,
   "id": "9121f4d7-5aa4-40bf-8f85-823c03318a5c",
   "metadata": {},
   "outputs": [],
   "source": [
    "estimators = [('dt1',dt1),('dt2',dt2),('dt3',dt3),('dt4',dt4),('dt5',dt5)]\n"
   ]
  },
  {
   "cell_type": "code",
   "execution_count": 14,
   "id": "8b137742-9d2f-4b8d-9b72-f5abc2a025d7",
   "metadata": {},
   "outputs": [
    {
     "name": "stdout",
     "output_type": "stream",
     "text": [
      "dt1 0.13\n",
      "dt2 0.36\n",
      "dt3 0.43\n",
      "dt4 0.47\n",
      "dt5 0.25\n"
     ]
    }
   ],
   "source": [
    "for estimator in estimators:\n",
    "    scores = cross_val_score(estimator[1],X,y,scoring='r2',cv=10)\n",
    "    print(estimator[0],np.round(np.mean(scores),2))\n"
   ]
  },
  {
   "cell_type": "code",
   "execution_count": 15,
   "id": "597a4f75-db87-40cd-97ea-56f2ee0f2545",
   "metadata": {},
   "outputs": [
    {
     "name": "stdout",
     "output_type": "stream",
     "text": [
      "Voting Regressor 0.5\n"
     ]
    }
   ],
   "source": [
    "\n",
    "vr = VotingRegressor(estimators)\n",
    "scores = cross_val_score(vr,X,y,scoring='r2',cv=10)\n",
    "print(\"Voting Regressor\",np.round(np.mean(scores),2))\n",
    "     "
   ]
  },
  {
   "cell_type": "code",
   "execution_count": null,
   "id": "ff581266-b699-44d4-bad9-b6d2f094ce89",
   "metadata": {},
   "outputs": [],
   "source": []
  }
 ],
 "metadata": {
  "kernelspec": {
   "display_name": "Python 3 (ipykernel)",
   "language": "python",
   "name": "python3"
  },
  "language_info": {
   "codemirror_mode": {
    "name": "ipython",
    "version": 3
   },
   "file_extension": ".py",
   "mimetype": "text/x-python",
   "name": "python",
   "nbconvert_exporter": "python",
   "pygments_lexer": "ipython3",
   "version": "3.10.9"
  }
 },
 "nbformat": 4,
 "nbformat_minor": 5
}
